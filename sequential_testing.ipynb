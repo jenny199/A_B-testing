{
 "cells": [
  {
   "cell_type": "markdown",
   "metadata": {},
   "source": [
    "# Libraries"
   ]
  },
  {
   "cell_type": "code",
   "execution_count": 1,
   "metadata": {},
   "outputs": [
    {
     "name": "stderr",
     "output_type": "stream",
     "text": [
      "UsageError: Line magic function `%autoreload` not found.\n"
     ]
    }
   ],
   "source": [
    "import pandas as pd\n",
    "import numpy as np\n",
    "import seaborn as sns\n",
    "import matplotlib.pyplot as plt\n",
    "import scipy.stats as scs\n",
    "\n",
    "\n",
    "%matplotlib inline\n",
    "plt.style.use('ggplot')\n",
    "%autoreload"
   ]
  },
  {
   "cell_type": "markdown",
   "metadata": {},
   "source": [
    "# Data Set"
   ]
  },
  {
   "cell_type": "code",
   "execution_count": 2,
   "metadata": {
    "colab": {
     "base_uri": "https://localhost:8080/",
     "height": 204
    },
    "colab_type": "code",
    "id": "-FE3ou80b97z",
    "outputId": "ad3022ad-99b7-487d-98f4-61649d51ebbd"
   },
   "outputs": [
    {
     "data": {
      "text/html": [
       "<div>\n",
       "<style scoped>\n",
       "    .dataframe tbody tr th:only-of-type {\n",
       "        vertical-align: middle;\n",
       "    }\n",
       "\n",
       "    .dataframe tbody tr th {\n",
       "        vertical-align: top;\n",
       "    }\n",
       "\n",
       "    .dataframe thead th {\n",
       "        text-align: right;\n",
       "    }\n",
       "</style>\n",
       "<table border=\"1\" class=\"dataframe\">\n",
       "  <thead>\n",
       "    <tr style=\"text-align: right;\">\n",
       "      <th></th>\n",
       "      <th>auction_id</th>\n",
       "      <th>experiment</th>\n",
       "      <th>date</th>\n",
       "      <th>hour</th>\n",
       "      <th>device_make</th>\n",
       "      <th>platform_os</th>\n",
       "      <th>browser</th>\n",
       "      <th>yes</th>\n",
       "      <th>no</th>\n",
       "    </tr>\n",
       "  </thead>\n",
       "  <tbody>\n",
       "    <tr>\n",
       "      <th>0</th>\n",
       "      <td>0008ef63-77a7-448b-bd1e-075f42c55e39</td>\n",
       "      <td>exposed</td>\n",
       "      <td>10/07/2020</td>\n",
       "      <td>8</td>\n",
       "      <td>Generic Smartphone</td>\n",
       "      <td>6</td>\n",
       "      <td>Chrome Mobile</td>\n",
       "      <td>0</td>\n",
       "      <td>0</td>\n",
       "    </tr>\n",
       "    <tr>\n",
       "      <th>1</th>\n",
       "      <td>000eabc5-17ce-4137-8efe-44734d914446</td>\n",
       "      <td>exposed</td>\n",
       "      <td>07/07/2020</td>\n",
       "      <td>10</td>\n",
       "      <td>Generic Smartphone</td>\n",
       "      <td>6</td>\n",
       "      <td>Chrome Mobile</td>\n",
       "      <td>0</td>\n",
       "      <td>0</td>\n",
       "    </tr>\n",
       "    <tr>\n",
       "      <th>2</th>\n",
       "      <td>0016d14a-ae18-4a02-a204-6ba53b52f2ed</td>\n",
       "      <td>exposed</td>\n",
       "      <td>05/07/2020</td>\n",
       "      <td>2</td>\n",
       "      <td>E5823</td>\n",
       "      <td>6</td>\n",
       "      <td>Chrome Mobile WebView</td>\n",
       "      <td>0</td>\n",
       "      <td>1</td>\n",
       "    </tr>\n",
       "    <tr>\n",
       "      <th>3</th>\n",
       "      <td>00187412-2932-4542-a8ef-3633901c98d9</td>\n",
       "      <td>control</td>\n",
       "      <td>03/07/2020</td>\n",
       "      <td>15</td>\n",
       "      <td>Samsung SM-A705FN</td>\n",
       "      <td>6</td>\n",
       "      <td>Facebook</td>\n",
       "      <td>0</td>\n",
       "      <td>0</td>\n",
       "    </tr>\n",
       "    <tr>\n",
       "      <th>4</th>\n",
       "      <td>001a7785-d3fe-4e11-a344-c8735acacc2c</td>\n",
       "      <td>control</td>\n",
       "      <td>03/07/2020</td>\n",
       "      <td>15</td>\n",
       "      <td>Generic Smartphone</td>\n",
       "      <td>6</td>\n",
       "      <td>Chrome Mobile</td>\n",
       "      <td>0</td>\n",
       "      <td>0</td>\n",
       "    </tr>\n",
       "  </tbody>\n",
       "</table>\n",
       "</div>"
      ],
      "text/plain": [
       "                             auction_id experiment        date  hour  \\\n",
       "0  0008ef63-77a7-448b-bd1e-075f42c55e39    exposed  10/07/2020     8   \n",
       "1  000eabc5-17ce-4137-8efe-44734d914446    exposed  07/07/2020    10   \n",
       "2  0016d14a-ae18-4a02-a204-6ba53b52f2ed    exposed  05/07/2020     2   \n",
       "3  00187412-2932-4542-a8ef-3633901c98d9    control  03/07/2020    15   \n",
       "4  001a7785-d3fe-4e11-a344-c8735acacc2c    control  03/07/2020    15   \n",
       "\n",
       "          device_make  platform_os                browser  yes  no  \n",
       "0  Generic Smartphone            6          Chrome Mobile    0   0  \n",
       "1  Generic Smartphone            6          Chrome Mobile    0   0  \n",
       "2               E5823            6  Chrome Mobile WebView    0   1  \n",
       "3   Samsung SM-A705FN            6               Facebook    0   0  \n",
       "4  Generic Smartphone            6          Chrome Mobile    0   0  "
      ]
     },
     "execution_count": 2,
     "metadata": {},
     "output_type": "execute_result"
    }
   ],
   "source": [
    "data=pd.read_csv('AdSmartABdata.csv')\n",
    "data.head()"
   ]
  },
  {
   "cell_type": "code",
   "execution_count": 4,
   "metadata": {},
   "outputs": [
    {
     "data": {
      "text/plain": [
       "(8077, 9)"
      ]
     },
     "execution_count": 4,
     "metadata": {},
     "output_type": "execute_result"
    }
   ],
   "source": [
    "data.shape"
   ]
  },
  {
   "cell_type": "markdown",
   "metadata": {},
   "source": [
    "# PreProcessing\n",
    "categorical, numerical and timestamp features"
   ]
  },
  {
   "cell_type": "code",
   "execution_count": 3,
   "metadata": {},
   "outputs": [
    {
     "data": {
      "text/html": [
       "<div>\n",
       "<style scoped>\n",
       "    .dataframe tbody tr th:only-of-type {\n",
       "        vertical-align: middle;\n",
       "    }\n",
       "\n",
       "    .dataframe tbody tr th {\n",
       "        vertical-align: top;\n",
       "    }\n",
       "\n",
       "    .dataframe thead th {\n",
       "        text-align: right;\n",
       "    }\n",
       "</style>\n",
       "<table border=\"1\" class=\"dataframe\">\n",
       "  <thead>\n",
       "    <tr style=\"text-align: right;\">\n",
       "      <th></th>\n",
       "      <th>hour</th>\n",
       "      <th>platform_os</th>\n",
       "      <th>yes</th>\n",
       "      <th>no</th>\n",
       "      <th>auction_id</th>\n",
       "      <th>experiment</th>\n",
       "      <th>date</th>\n",
       "      <th>device_make</th>\n",
       "      <th>browser</th>\n",
       "    </tr>\n",
       "  </thead>\n",
       "  <tbody>\n",
       "    <tr>\n",
       "      <th>0</th>\n",
       "      <td>8</td>\n",
       "      <td>6</td>\n",
       "      <td>0</td>\n",
       "      <td>0</td>\n",
       "      <td>0008ef63-77a7-448b-bd1e-075f42c55e39</td>\n",
       "      <td>exposed</td>\n",
       "      <td>10/07/2020</td>\n",
       "      <td>Generic Smartphone</td>\n",
       "      <td>Chrome Mobile</td>\n",
       "    </tr>\n",
       "    <tr>\n",
       "      <th>1</th>\n",
       "      <td>10</td>\n",
       "      <td>6</td>\n",
       "      <td>0</td>\n",
       "      <td>0</td>\n",
       "      <td>000eabc5-17ce-4137-8efe-44734d914446</td>\n",
       "      <td>exposed</td>\n",
       "      <td>07/07/2020</td>\n",
       "      <td>Generic Smartphone</td>\n",
       "      <td>Chrome Mobile</td>\n",
       "    </tr>\n",
       "    <tr>\n",
       "      <th>2</th>\n",
       "      <td>2</td>\n",
       "      <td>6</td>\n",
       "      <td>0</td>\n",
       "      <td>1</td>\n",
       "      <td>0016d14a-ae18-4a02-a204-6ba53b52f2ed</td>\n",
       "      <td>exposed</td>\n",
       "      <td>05/07/2020</td>\n",
       "      <td>E5823</td>\n",
       "      <td>Chrome Mobile WebView</td>\n",
       "    </tr>\n",
       "  </tbody>\n",
       "</table>\n",
       "</div>"
      ],
      "text/plain": [
       "   hour  platform_os  yes  no                            auction_id  \\\n",
       "0     8            6    0   0  0008ef63-77a7-448b-bd1e-075f42c55e39   \n",
       "1    10            6    0   0  000eabc5-17ce-4137-8efe-44734d914446   \n",
       "2     2            6    0   1  0016d14a-ae18-4a02-a204-6ba53b52f2ed   \n",
       "\n",
       "  experiment        date         device_make                browser  \n",
       "0    exposed  10/07/2020  Generic Smartphone          Chrome Mobile  \n",
       "1    exposed  07/07/2020  Generic Smartphone          Chrome Mobile  \n",
       "2    exposed  05/07/2020               E5823  Chrome Mobile WebView  "
      ]
     },
     "execution_count": 3,
     "metadata": {},
     "output_type": "execute_result"
    }
   ],
   "source": [
    "\n",
    "numerical = []\n",
    "categorical = []\n",
    "timestamps = []\n",
    "\n",
    "for col in data.columns:\n",
    "    if data[col].dtype in ['int16', 'int32', 'int64', 'float16', 'float32', 'float64']:\n",
    "        numerical.append(col)\n",
    "    elif data[col].dtype == object:\n",
    "        categorical.append(col)\n",
    "    else:\n",
    "        timestamps.append(col)\n",
    "        \n",
    "        \n",
    "features = numerical+categorical+timestamps\n",
    "raw = data[features]\n",
    "raw.head(3)"
   ]
  },
  {
   "cell_type": "code",
   "execution_count": 7,
   "metadata": {},
   "outputs": [
    {
     "data": {
      "text/plain": [
       "hour            int64\n",
       "platform_os     int64\n",
       "yes             int64\n",
       "no              int64\n",
       "auction_id     object\n",
       "experiment     object\n",
       "date           object\n",
       "device_make    object\n",
       "browser        object\n",
       "dtype: object"
      ]
     },
     "execution_count": 7,
     "metadata": {},
     "output_type": "execute_result"
    }
   ],
   "source": [
    "raw.dtypes"
   ]
  },
  {
   "cell_type": "code",
   "execution_count": 4,
   "metadata": {},
   "outputs": [
    {
     "data": {
      "text/html": [
       "<div>\n",
       "<style scoped>\n",
       "    .dataframe tbody tr th:only-of-type {\n",
       "        vertical-align: middle;\n",
       "    }\n",
       "\n",
       "    .dataframe tbody tr th {\n",
       "        vertical-align: top;\n",
       "    }\n",
       "\n",
       "    .dataframe thead th {\n",
       "        text-align: right;\n",
       "    }\n",
       "</style>\n",
       "<table border=\"1\" class=\"dataframe\">\n",
       "  <thead>\n",
       "    <tr style=\"text-align: right;\">\n",
       "      <th></th>\n",
       "      <th>hour</th>\n",
       "      <th>platform_os</th>\n",
       "      <th>yes</th>\n",
       "      <th>no</th>\n",
       "    </tr>\n",
       "  </thead>\n",
       "  <tbody>\n",
       "    <tr>\n",
       "      <th>count</th>\n",
       "      <td>8077.000000</td>\n",
       "      <td>8077.000000</td>\n",
       "      <td>8077.000000</td>\n",
       "      <td>8077.000000</td>\n",
       "    </tr>\n",
       "    <tr>\n",
       "      <th>mean</th>\n",
       "      <td>11.615080</td>\n",
       "      <td>5.947134</td>\n",
       "      <td>0.070818</td>\n",
       "      <td>0.083075</td>\n",
       "    </tr>\n",
       "    <tr>\n",
       "      <th>std</th>\n",
       "      <td>5.734879</td>\n",
       "      <td>0.224333</td>\n",
       "      <td>0.256537</td>\n",
       "      <td>0.276013</td>\n",
       "    </tr>\n",
       "    <tr>\n",
       "      <th>min</th>\n",
       "      <td>0.000000</td>\n",
       "      <td>5.000000</td>\n",
       "      <td>0.000000</td>\n",
       "      <td>0.000000</td>\n",
       "    </tr>\n",
       "    <tr>\n",
       "      <th>25%</th>\n",
       "      <td>7.000000</td>\n",
       "      <td>6.000000</td>\n",
       "      <td>0.000000</td>\n",
       "      <td>0.000000</td>\n",
       "    </tr>\n",
       "    <tr>\n",
       "      <th>50%</th>\n",
       "      <td>13.000000</td>\n",
       "      <td>6.000000</td>\n",
       "      <td>0.000000</td>\n",
       "      <td>0.000000</td>\n",
       "    </tr>\n",
       "    <tr>\n",
       "      <th>75%</th>\n",
       "      <td>15.000000</td>\n",
       "      <td>6.000000</td>\n",
       "      <td>0.000000</td>\n",
       "      <td>0.000000</td>\n",
       "    </tr>\n",
       "    <tr>\n",
       "      <th>max</th>\n",
       "      <td>23.000000</td>\n",
       "      <td>7.000000</td>\n",
       "      <td>1.000000</td>\n",
       "      <td>1.000000</td>\n",
       "    </tr>\n",
       "  </tbody>\n",
       "</table>\n",
       "</div>"
      ],
      "text/plain": [
       "              hour  platform_os          yes           no\n",
       "count  8077.000000  8077.000000  8077.000000  8077.000000\n",
       "mean     11.615080     5.947134     0.070818     0.083075\n",
       "std       5.734879     0.224333     0.256537     0.276013\n",
       "min       0.000000     5.000000     0.000000     0.000000\n",
       "25%       7.000000     6.000000     0.000000     0.000000\n",
       "50%      13.000000     6.000000     0.000000     0.000000\n",
       "75%      15.000000     6.000000     0.000000     0.000000\n",
       "max      23.000000     7.000000     1.000000     1.000000"
      ]
     },
     "execution_count": 4,
     "metadata": {},
     "output_type": "execute_result"
    }
   ],
   "source": [
    "raw.describe()"
   ]
  },
  {
   "cell_type": "code",
   "execution_count": 8,
   "metadata": {},
   "outputs": [
    {
     "data": {
      "text/plain": [
       "(8077, 9)"
      ]
     },
     "execution_count": 8,
     "metadata": {},
     "output_type": "execute_result"
    }
   ],
   "source": [
    "raw.shape"
   ]
  },
  {
   "cell_type": "markdown",
   "metadata": {},
   "source": [
    "# null values for numerical columns"
   ]
  },
  {
   "cell_type": "code",
   "execution_count": 9,
   "metadata": {},
   "outputs": [
    {
     "data": {
      "text/html": [
       "<div>\n",
       "<style scoped>\n",
       "    .dataframe tbody tr th:only-of-type {\n",
       "        vertical-align: middle;\n",
       "    }\n",
       "\n",
       "    .dataframe tbody tr th {\n",
       "        vertical-align: top;\n",
       "    }\n",
       "\n",
       "    .dataframe thead th {\n",
       "        text-align: right;\n",
       "    }\n",
       "</style>\n",
       "<table border=\"1\" class=\"dataframe\">\n",
       "  <thead>\n",
       "    <tr style=\"text-align: right;\">\n",
       "      <th></th>\n",
       "      <th>0</th>\n",
       "    </tr>\n",
       "  </thead>\n",
       "  <tbody>\n",
       "    <tr>\n",
       "      <th>no</th>\n",
       "      <td>0.0</td>\n",
       "    </tr>\n",
       "    <tr>\n",
       "      <th>yes</th>\n",
       "      <td>0.0</td>\n",
       "    </tr>\n",
       "    <tr>\n",
       "      <th>platform_os</th>\n",
       "      <td>0.0</td>\n",
       "    </tr>\n",
       "    <tr>\n",
       "      <th>hour</th>\n",
       "      <td>0.0</td>\n",
       "    </tr>\n",
       "  </tbody>\n",
       "</table>\n",
       "</div>"
      ],
      "text/plain": [
       "               0\n",
       "no           0.0\n",
       "yes          0.0\n",
       "platform_os  0.0\n",
       "hour         0.0"
      ]
     },
     "execution_count": 9,
     "metadata": {},
     "output_type": "execute_result"
    }
   ],
   "source": [
    "#Null numerical values (percentage)\n",
    "null = raw[numerical].isna().sum().sort_values(ascending = False)\n",
    "null_per = (null/8077) * 100\n",
    "null_perc = pd.DataFrame(null_per)\n",
    "null_perc"
   ]
  },
  {
   "cell_type": "markdown",
   "metadata": {},
   "source": [
    "There are no null values for numerical columns "
   ]
  },
  {
   "cell_type": "markdown",
   "metadata": {},
   "source": [
    "# null values for categorical and timestamps columns"
   ]
  },
  {
   "cell_type": "code",
   "execution_count": 10,
   "metadata": {},
   "outputs": [
    {
     "data": {
      "text/html": [
       "<div>\n",
       "<style scoped>\n",
       "    .dataframe tbody tr th:only-of-type {\n",
       "        vertical-align: middle;\n",
       "    }\n",
       "\n",
       "    .dataframe tbody tr th {\n",
       "        vertical-align: top;\n",
       "    }\n",
       "\n",
       "    .dataframe thead th {\n",
       "        text-align: right;\n",
       "    }\n",
       "</style>\n",
       "<table border=\"1\" class=\"dataframe\">\n",
       "  <thead>\n",
       "    <tr style=\"text-align: right;\">\n",
       "      <th></th>\n",
       "      <th>0</th>\n",
       "    </tr>\n",
       "  </thead>\n",
       "  <tbody>\n",
       "    <tr>\n",
       "      <th>browser</th>\n",
       "      <td>0.0</td>\n",
       "    </tr>\n",
       "    <tr>\n",
       "      <th>device_make</th>\n",
       "      <td>0.0</td>\n",
       "    </tr>\n",
       "    <tr>\n",
       "      <th>date</th>\n",
       "      <td>0.0</td>\n",
       "    </tr>\n",
       "    <tr>\n",
       "      <th>experiment</th>\n",
       "      <td>0.0</td>\n",
       "    </tr>\n",
       "    <tr>\n",
       "      <th>auction_id</th>\n",
       "      <td>0.0</td>\n",
       "    </tr>\n",
       "  </tbody>\n",
       "</table>\n",
       "</div>"
      ],
      "text/plain": [
       "               0\n",
       "browser      0.0\n",
       "device_make  0.0\n",
       "date         0.0\n",
       "experiment   0.0\n",
       "auction_id   0.0"
      ]
     },
     "execution_count": 10,
     "metadata": {},
     "output_type": "execute_result"
    }
   ],
   "source": [
    "#Null categorical and timestamps values \n",
    "null = data[categorical + timestamps].isna().sum().sort_values(ascending = False)\n",
    "null = (null/150001) * 100\n",
    "null = pd.DataFrame(null)\n",
    "null"
   ]
  },
  {
   "cell_type": "markdown",
   "metadata": {},
   "source": [
    "No null values for those columns as well"
   ]
  },
  {
   "cell_type": "markdown",
   "metadata": {},
   "source": [
    "# Unique categorical data"
   ]
  },
  {
   "cell_type": "code",
   "execution_count": 11,
   "metadata": {},
   "outputs": [
    {
     "name": "stdout",
     "output_type": "stream",
     "text": [
      "auction_id     8077\n",
      "experiment        2\n",
      "date              8\n",
      "device_make     270\n",
      "browser          15\n",
      "dtype: int64\n"
     ]
    }
   ],
   "source": [
    "unique_cat = raw[categorical].nunique()\n",
    "print(unique_cat)"
   ]
  },
  {
   "cell_type": "markdown",
   "metadata": {},
   "source": [
    "# Users who chose yes radio button"
   ]
  },
  {
   "cell_type": "code",
   "execution_count": 13,
   "metadata": {},
   "outputs": [
    {
     "data": {
      "text/html": [
       "<div>\n",
       "<style scoped>\n",
       "    .dataframe tbody tr th:only-of-type {\n",
       "        vertical-align: middle;\n",
       "    }\n",
       "\n",
       "    .dataframe tbody tr th {\n",
       "        vertical-align: top;\n",
       "    }\n",
       "\n",
       "    .dataframe thead th {\n",
       "        text-align: right;\n",
       "    }\n",
       "</style>\n",
       "<table border=\"1\" class=\"dataframe\">\n",
       "  <thead>\n",
       "    <tr style=\"text-align: right;\">\n",
       "      <th></th>\n",
       "      <th>yes</th>\n",
       "    </tr>\n",
       "  </thead>\n",
       "  <tbody>\n",
       "    <tr>\n",
       "      <th>0</th>\n",
       "      <td>7505</td>\n",
       "    </tr>\n",
       "    <tr>\n",
       "      <th>1</th>\n",
       "      <td>572</td>\n",
       "    </tr>\n",
       "  </tbody>\n",
       "</table>\n",
       "</div>"
      ],
      "text/plain": [
       "    yes\n",
       "0  7505\n",
       "1   572"
      ]
     },
     "execution_count": 13,
     "metadata": {},
     "output_type": "execute_result"
    }
   ],
   "source": [
    "used_yes = raw['yes'].value_counts(ascending = False)\n",
    "used_yes = pd.DataFrame(used_yes)\n",
    "used_yes"
   ]
  },
  {
   "cell_type": "code",
   "execution_count": 21,
   "metadata": {},
   "outputs": [
    {
     "data": {
      "text/plain": [
       "Text(0.5, 1.0, 'A barplot indicating users who chose yes on a questionnaire')"
      ]
     },
     "execution_count": 21,
     "metadata": {},
     "output_type": "execute_result"
    },
    {
     "data": {
      "image/png": "[encoded data removed]",
      "text/plain": [
       "<Figure size 432x288 with 1 Axes>"
      ]
     },
     "metadata": {
      "needs_background": "light"
     },
     "output_type": "display_data"
    }
   ],
   "source": [
    "#plt.figure(figsize=(10,5))\n",
    "sns.barplot(x = used_yes.index, y = used_yes['yes'])\n",
    "plt.xlabel('Number of user choices')\n",
    "plt.title('A barplot indicating users who chose yes on a questionnaire')"
   ]
  },
  {
   "cell_type": "markdown",
   "metadata": {},
   "source": [
    "from the above graph we can see that few users choose YES on a BIO questionnaire"
   ]
  },
  {
   "cell_type": "markdown",
   "metadata": {},
   "source": [
    "# Users who choose no button"
   ]
  },
  {
   "cell_type": "code",
   "execution_count": 24,
   "metadata": {},
   "outputs": [
    {
     "data": {
      "text/html": [
       "<div>\n",
       "<style scoped>\n",
       "    .dataframe tbody tr th:only-of-type {\n",
       "        vertical-align: middle;\n",
       "    }\n",
       "\n",
       "    .dataframe tbody tr th {\n",
       "        vertical-align: top;\n",
       "    }\n",
       "\n",
       "    .dataframe thead th {\n",
       "        text-align: right;\n",
       "    }\n",
       "</style>\n",
       "<table border=\"1\" class=\"dataframe\">\n",
       "  <thead>\n",
       "    <tr style=\"text-align: right;\">\n",
       "      <th></th>\n",
       "      <th>no</th>\n",
       "    </tr>\n",
       "  </thead>\n",
       "  <tbody>\n",
       "    <tr>\n",
       "      <th>0</th>\n",
       "      <td>7406</td>\n",
       "    </tr>\n",
       "    <tr>\n",
       "      <th>1</th>\n",
       "      <td>671</td>\n",
       "    </tr>\n",
       "  </tbody>\n",
       "</table>\n",
       "</div>"
      ],
      "text/plain": [
       "     no\n",
       "0  7406\n",
       "1   671"
      ]
     },
     "execution_count": 24,
     "metadata": {},
     "output_type": "execute_result"
    }
   ],
   "source": [
    "used_no = raw['no'].value_counts(ascending = False)\n",
    "used_no = pd.DataFrame(used_no)\n",
    "used_no\n"
   ]
  },
  {
   "cell_type": "code",
   "execution_count": 25,
   "metadata": {},
   "outputs": [
    {
     "data": {
      "text/plain": [
       "Text(0.5, 1.0, 'A barplot indicating users who chose no on a questionnaire')"
      ]
     },
     "execution_count": 25,
     "metadata": {},
     "output_type": "execute_result"
    },
    {
     "data": {
      "image/png": "[encoded data removed]",
      "text/plain": [
       "<Figure size 432x288 with 1 Axes>"
      ]
     },
     "metadata": {
      "needs_background": "light"
     },
     "output_type": "display_data"
    }
   ],
   "source": [
    "#plt.figure(figsize=(10,5))\n",
    "sns.barplot(x = used_no.index, y = used_no['no'])\n",
    "plt.xlabel('Number of user choices')\n",
    "plt.title('A barplot indicating users who chose no on a questionnaire')"
   ]
  },
  {
   "cell_type": "markdown",
   "metadata": {},
   "source": [
    "We can also see that the number of users who choose No are few compared to those who choose nothing"
   ]
  },
  {
   "cell_type": "code",
   "execution_count": 28,
   "metadata": {},
   "outputs": [
    {
     "data": {
      "text/html": [
       "<div>\n",
       "<style scoped>\n",
       "    .dataframe tbody tr th:only-of-type {\n",
       "        vertical-align: middle;\n",
       "    }\n",
       "\n",
       "    .dataframe tbody tr th {\n",
       "        vertical-align: top;\n",
       "    }\n",
       "\n",
       "    .dataframe thead th {\n",
       "        text-align: right;\n",
       "    }\n",
       "</style>\n",
       "<table border=\"1\" class=\"dataframe\">\n",
       "  <thead>\n",
       "    <tr style=\"text-align: right;\">\n",
       "      <th></th>\n",
       "      <th>browser</th>\n",
       "    </tr>\n",
       "  </thead>\n",
       "  <tbody>\n",
       "    <tr>\n",
       "      <th>Chrome Mobile</th>\n",
       "      <td>4554</td>\n",
       "    </tr>\n",
       "    <tr>\n",
       "      <th>Chrome Mobile WebView</th>\n",
       "      <td>1489</td>\n",
       "    </tr>\n",
       "    <tr>\n",
       "      <th>Samsung Internet</th>\n",
       "      <td>824</td>\n",
       "    </tr>\n",
       "  </tbody>\n",
       "</table>\n",
       "</div>"
      ],
      "text/plain": [
       "                       browser\n",
       "Chrome Mobile             4554\n",
       "Chrome Mobile WebView     1489\n",
       "Samsung Internet           824"
      ]
     },
     "execution_count": 28,
     "metadata": {},
     "output_type": "execute_result"
    }
   ],
   "source": [
    "top_3_browsers = raw['browser'].value_counts(ascending = False).head(3)\n",
    "top_3_browsers = pd.DataFrame(top_3_browsers)\n",
    "top_3_browsers"
   ]
  },
  {
   "cell_type": "code",
   "execution_count": 29,
   "metadata": {},
   "outputs": [
    {
     "data": {
      "text/plain": [
       "Text(0.5, 1.0, 'A barplot indicating top 3 browsers')"
      ]
     },
     "execution_count": 29,
     "metadata": {},
     "output_type": "execute_result"
    },
    {
     "data": {
      "image/png": "[encoded data removed]",
      "text/plain": [
       "<Figure size 432x288 with 1 Axes>"
      ]
     },
     "metadata": {
      "needs_background": "light"
     },
     "output_type": "display_data"
    }
   ],
   "source": [
    "#plt.figure(figsize=(10,5))\n",
    "sns.barplot(y = top_3_browsers.index, x = top_3_browsers['browser'])\n",
    "plt.xlabel('Number of browser users')\n",
    "plt.title('A barplot indicating top 3 browsers')"
   ]
  },
  {
   "cell_type": "markdown",
   "metadata": {},
   "source": [
    "Most of the users uses Chrome and they browse from their mobile"
   ]
  },
  {
   "cell_type": "code",
   "execution_count": 45,
   "metadata": {},
   "outputs": [
    {
     "data": {
      "text/html": [
       "<div>\n",
       "<style scoped>\n",
       "    .dataframe tbody tr th:only-of-type {\n",
       "        vertical-align: middle;\n",
       "    }\n",
       "\n",
       "    .dataframe tbody tr th {\n",
       "        vertical-align: top;\n",
       "    }\n",
       "\n",
       "    .dataframe thead th {\n",
       "        text-align: right;\n",
       "    }\n",
       "</style>\n",
       "<table border=\"1\" class=\"dataframe\">\n",
       "  <thead>\n",
       "    <tr style=\"text-align: right;\">\n",
       "      <th></th>\n",
       "      <th>yes</th>\n",
       "      <th>no</th>\n",
       "    </tr>\n",
       "    <tr>\n",
       "      <th>experiment</th>\n",
       "      <th></th>\n",
       "      <th></th>\n",
       "    </tr>\n",
       "  </thead>\n",
       "  <tbody>\n",
       "    <tr>\n",
       "      <th>control</th>\n",
       "      <td>4071</td>\n",
       "      <td>4071</td>\n",
       "    </tr>\n",
       "    <tr>\n",
       "      <th>exposed</th>\n",
       "      <td>4006</td>\n",
       "      <td>4006</td>\n",
       "    </tr>\n",
       "  </tbody>\n",
       "</table>\n",
       "</div>"
      ],
      "text/plain": [
       "             yes    no\n",
       "experiment            \n",
       "control     4071  4071\n",
       "exposed     4006  4006"
      ]
     },
     "execution_count": 45,
     "metadata": {},
     "output_type": "execute_result"
    }
   ],
   "source": [
    "agg_user_experiment = raw.groupby('experiment').agg({'yes':'count', 'no':'count'})\n",
    "agg_user_experiment.columns = ['yes', 'no']\n",
    "agg_user_experiment"
   ]
  },
  {
   "cell_type": "markdown",
   "metadata": {},
   "source": [
    "# Hours used by users in each experiment"
   ]
  },
  {
   "cell_type": "code",
   "execution_count": 47,
   "metadata": {},
   "outputs": [
    {
     "data": {
      "text/plain": [
       "Text(0.5, 1.0, 'A barplot indicating hours used by users in each experiment')"
      ]
     },
     "execution_count": 47,
     "metadata": {},
     "output_type": "execute_result"
    },
    {
     "data": {
      "image/png": "[encoded data removed]",
      "text/plain": [
       "<Figure size 432x288 with 1 Axes>"
      ]
     },
     "metadata": {
      "needs_background": "light"
     },
     "output_type": "display_data"
    }
   ],
   "source": [
    "experiment_hour = raw.groupby('experiment').agg({'hour':'sum'})\n",
    "experiment_hour.columns = ['hour']\n",
    "sns.barplot(y = experiment_hour.index, x = experiment_hour['hour'])\n",
    "plt.xlabel('Number of hour per experiment')\n",
    "plt.title('A barplot indicating hours used by users in each experiment')"
   ]
  },
  {
   "cell_type": "markdown",
   "metadata": {},
   "source": [
    "Users in the control group used many hours than those in the exposed group"
   ]
  },
  {
   "cell_type": "markdown",
   "metadata": {},
   "source": [
    "# Classical A/B testing"
   ]
  },
  {
   "cell_type": "markdown",
   "metadata": {},
   "source": [
    "For performing this analysis we will choose the variables which are relevant for analysis, for our case we are interested in\n",
    "knowing the users who clicked yes in each group, for that reason we will choose experiment and yes columns."
   ]
  },
  {
   "cell_type": "markdown",
   "metadata": {},
   "source": [
    "Conversion rate is the rate at which users get engaged in our ads , and the lift rate is the increase in awareness that we \n",
    "want to test.\n",
    "we want to comfirm that changes made will increase brand awareness atleas 2%."
   ]
  },
  {
   "cell_type": "code",
   "execution_count": 52,
   "metadata": {},
   "outputs": [],
   "source": [
    "#baseline conversion rate and  desired lift\n",
    "bcr = 0.10  # baseline conversion rate\n",
    "d_hat = 0.02  # difference between the groups\n"
   ]
  },
  {
   "cell_type": "code",
   "execution_count": 55,
   "metadata": {},
   "outputs": [],
   "source": [
    "#new data set\n",
    "raw_data = raw[['experiment','yes']]"
   ]
  },
  {
   "cell_type": "code",
   "execution_count": 56,
   "metadata": {},
   "outputs": [],
   "source": [
    "#separating user groups\n",
    "control_group = raw_data[raw_data['experiment'] == 'control']\n",
    "exposed_group = raw_data[raw_data['experiment'] == 'exposed']"
   ]
  },
  {
   "cell_type": "code",
   "execution_count": 58,
   "metadata": {},
   "outputs": [
    {
     "data": {
      "text/plain": [
       "(264, 308)"
      ]
     },
     "execution_count": 58,
     "metadata": {},
     "output_type": "execute_result"
    }
   ],
   "source": [
    "#calculating users who said yes in each group\n",
    "control_converted, exposed_converted = control_group['yes'].sum(), exposed_group['yes'].sum()\n",
    "control_converted, exposed_converted"
   ]
  },
  {
   "cell_type": "code",
   "execution_count": 59,
   "metadata": {},
   "outputs": [
    {
     "data": {
      "text/plain": [
       "(4071, 4006)"
      ]
     },
     "execution_count": 59,
     "metadata": {},
     "output_type": "execute_result"
    }
   ],
   "source": [
    "#length of each group\n",
    "control_total, exposed_total = len(control_group), len(exposed_group)\n",
    "control_total, exposed_total"
   ]
  },
  {
   "cell_type": "code",
   "execution_count": 60,
   "metadata": {},
   "outputs": [
    {
     "data": {
      "text/plain": [
       "(0.06484893146647015, 0.07688467299051423)"
      ]
     },
     "execution_count": 60,
     "metadata": {},
     "output_type": "execute_result"
    }
   ],
   "source": [
    "p_A, p_B = control_converted / control_total, exposed_converted / exposed_total\n",
    "p_A, p_B"
   ]
  },
  {
   "cell_type": "code",
   "execution_count": 61,
   "metadata": {},
   "outputs": [
    {
     "data": {
      "text/plain": [
       "0.012035741524044075"
      ]
     },
     "execution_count": 61,
     "metadata": {},
     "output_type": "execute_result"
    }
   ],
   "source": [
    "p_B - p_A"
   ]
  },
  {
   "cell_type": "code",
   "execution_count": 63,
   "metadata": {},
   "outputs": [
    {
     "data": {
      "text/html": [
       "<div>\n",
       "<style scoped>\n",
       "    .dataframe tbody tr th:only-of-type {\n",
       "        vertical-align: middle;\n",
       "    }\n",
       "\n",
       "    .dataframe tbody tr th {\n",
       "        vertical-align: top;\n",
       "    }\n",
       "\n",
       "    .dataframe thead th {\n",
       "        text-align: right;\n",
       "    }\n",
       "</style>\n",
       "<table border=\"1\" class=\"dataframe\">\n",
       "  <thead>\n",
       "    <tr style=\"text-align: right;\">\n",
       "      <th></th>\n",
       "      <th>yes</th>\n",
       "      <th>total</th>\n",
       "      <th>rate</th>\n",
       "    </tr>\n",
       "    <tr>\n",
       "      <th>experiment</th>\n",
       "      <th></th>\n",
       "      <th></th>\n",
       "      <th></th>\n",
       "    </tr>\n",
       "  </thead>\n",
       "  <tbody>\n",
       "    <tr>\n",
       "      <th>control</th>\n",
       "      <td>264</td>\n",
       "      <td>4071</td>\n",
       "      <td>0.064849</td>\n",
       "    </tr>\n",
       "    <tr>\n",
       "      <th>exposed</th>\n",
       "      <td>308</td>\n",
       "      <td>4006</td>\n",
       "      <td>0.076885</td>\n",
       "    </tr>\n",
       "  </tbody>\n",
       "</table>\n",
       "</div>"
      ],
      "text/plain": [
       "            yes  total      rate\n",
       "experiment                      \n",
       "control     264   4071  0.064849\n",
       "exposed     308   4006  0.076885"
      ]
     },
     "execution_count": 63,
     "metadata": {},
     "output_type": "execute_result"
    }
   ],
   "source": [
    "data_summary = raw_data.pivot_table(values='yes', index='experiment', aggfunc=np.sum)\n",
    "data_summary['total'] = raw_data.pivot_table(values='yes', index='experiment', aggfunc=lambda x: len(x))\n",
    "data_summary['rate'] = raw_data.pivot_table(values='yes', index='experiment')\n",
    "data_summary"
   ]
  },
  {
   "cell_type": "markdown",
   "metadata": {},
   "source": [
    "The above result matches our parameters that we used to set up the test, observing the conversion rate for both groups, \n",
    "you find that the new campaign resulted in an improvement of 2%."
   ]
  },
  {
   "cell_type": "markdown",
   "metadata": {},
   "source": [
    "# Comparing The Two Samples"
   ]
  },
  {
   "cell_type": "markdown",
   "metadata": {},
   "source": [
    "We can compare the two groups by plotting the distribution of the control group and calculating the \n",
    "probability of getting the result from our test group. "
   ]
  },
  {
   "cell_type": "code",
   "execution_count": 64,
   "metadata": {},
   "outputs": [
    {
     "data": {
      "text/plain": [
       "312.99750374438344"
      ]
     },
     "execution_count": 64,
     "metadata": {},
     "output_type": "execute_result"
    }
   ],
   "source": [
    "p_B * control_total"
   ]
  },
  {
   "cell_type": "code",
   "execution_count": 68,
   "metadata": {},
   "outputs": [
    {
     "data": {
      "text/plain": [
       "Text(0, 0.5, 'probability')"
      ]
     },
     "execution_count": 68,
     "metadata": {},
     "output_type": "execute_result"
    },
    {
     "data": {
      "image/png": "[encoded data removed]",
      "text/plain": [
       "<Figure size 864x432 with 1 Axes>"
      ]
     },
     "metadata": {},
     "output_type": "display_data"
    }
   ],
   "source": [
    "fig, ax = plt.subplots(figsize=(12,6))\n",
    "x = np.linspace(control_converted-49, control_converted+50, 100)\n",
    "y = scs.binom(control_total, p_A).pmf(x)\n",
    "ax.scatter(x, y, s=10)\n",
    "ax.axvline(x=p_B * control_total, c='blue', alpha=0.75, linestyle='--')\n",
    "plt.xlabel('converted')\n",
    "plt.ylabel('probability')"
   ]
  },
  {
   "cell_type": "markdown",
   "metadata": {},
   "source": [
    "From the above graph, the probability distribution for the control group is shown in red and the result from the test group\n",
    "is indicated by the blue dashed line. We can see that the probability of getting the result from the test group was very low."
   ]
  },
  {
   "cell_type": "code",
   "execution_count": 69,
   "metadata": {},
   "outputs": [
    {
     "data": {
      "text/plain": [
       "3.122434310409453e-26"
      ]
     },
     "execution_count": 69,
     "metadata": {},
     "output_type": "execute_result"
    }
   ],
   "source": [
    "scs.binom(control_total, p_A).pmf(116)"
   ]
  },
  {
   "cell_type": "markdown",
   "metadata": {},
   "source": [
    "This is a very high probability comparing to the significance level of 5%. But this can not be an evidence,\n",
    "we will first find the statistical power."
   ]
  },
  {
   "cell_type": "markdown",
   "metadata": {},
   "source": [
    "# Binomial distribution"
   ]
  },
  {
   "cell_type": "markdown",
   "metadata": {},
   "source": [
    "The distribution for our groups is binomial because the data is a series of Bernoulli trials, where each trial\n",
    "only has two possible outcomes "
   ]
  },
  {
   "cell_type": "code",
   "execution_count": 71,
   "metadata": {},
   "outputs": [
    {
     "data": {
      "text/plain": [
       "Text(0.5, 1.0, 'Binomial distributions for the control (red) and exposed (blue) groups')"
      ]
     },
     "execution_count": 71,
     "metadata": {},
     "output_type": "execute_result"
    },
    {
     "data": {
      "image/png": "[encoded data removed]",
      "text/plain": [
       "<Figure size 864x432 with 1 Axes>"
      ]
     },
     "metadata": {},
     "output_type": "display_data"
    }
   ],
   "source": [
    "fig, ax = plt.subplots(figsize=(12,6))\n",
    "xA = np.linspace(control_converted-49, control_converted+50, 100)\n",
    "yA = scs.binom(control_total, p_A).pmf(xA)\n",
    "ax.scatter(xA, yA, s=10)\n",
    "xB = np.linspace(exposed_converted-49, exposed_converted+50, 100)\n",
    "yB = scs.binom(exposed_total, p_B).pmf(xB)\n",
    "ax.scatter(xB, yB, s=10)\n",
    "plt.xlabel('converted')\n",
    "plt.ylabel('probability')\n",
    "plt.title('Binomial distributions for the control (red) and exposed (blue) groups')"
   ]
  },
  {
   "cell_type": "markdown",
   "metadata": {},
   "source": [
    "From the above graph we can see that exposed group have many users than the control one.\n",
    "it is also seen that the control group has a higher peak than the eposed one. we will focus on conversion rates rather than\n",
    "the difference in peak probability. This will be done by standardizing the data and compare their probability of success."
   ]
  },
  {
   "cell_type": "markdown",
   "metadata": {},
   "source": [
    "# Bernoulli Distribution"
   ]
  },
  {
   "cell_type": "markdown",
   "metadata": {},
   "source": [
    "To calculate the probability of success we will consider the bernoulli distribution of the control group X~bernoulli(p),\n",
    "where p is the conversion probability of the control group. \n",
    "According to the central limit theorem,  by calculating many sample means we can approximate the true mean of the population\n",
    "from which the data for the control group was taken. The distribution of the sample means will be normally distributed \n",
    "around the true mean with a standard deviation equal to the standard error(SE) of the mean."
   ]
  },
  {
   "cell_type": "code",
   "execution_count": 74,
   "metadata": {},
   "outputs": [
    {
     "data": {
      "text/plain": [
       "Text(0.5, 1.0, 'plot showing the distribution of Null and alternative hypothesis')"
      ]
     },
     "execution_count": 74,
     "metadata": {},
     "output_type": "execute_result"
    },
    {
     "data": {
      "image/png": "[encoded data removed]",
      "text/plain": [
       "<Figure size 864x432 with 1 Axes>"
      ]
     },
     "metadata": {},
     "output_type": "display_data"
    }
   ],
   "source": [
    "# standard error of the mean for both groups\n",
    "SE_A = np.sqrt(p_A * (1-p_A)) / np.sqrt(control_total)\n",
    "SE_B = np.sqrt(p_B * (1-p_B)) / np.sqrt(exposed_total)\n",
    "# plot the null and alternative hypothesis\n",
    "fig, ax = plt.subplots(figsize=(12,6))\n",
    "xA = np.linspace(0, .2, 1000)\n",
    "yA = scs.norm(p_A, SE_A).pdf(xA)\n",
    "ax.plot(xA, yA)\n",
    "ax.axvline(x=p_A, c='red', alpha=0.5, linestyle='--')\n",
    "\n",
    "xB = np.linspace(0, .2, 1000)\n",
    "yB = scs.norm(p_B, SE_B).pdf(xB)\n",
    "ax.plot(xB, yB)\n",
    "ax.axvline(x=p_B, c='blue', alpha=0.5, linestyle='--')\n",
    "\n",
    "plt.xlabel('Converted Proportion')\n",
    "plt.ylabel('PDF')\n",
    "plt.title('plot showing the distribution of Null and alternative hypothesis')"
   ]
  },
  {
   "cell_type": "markdown",
   "metadata": {},
   "source": [
    "The dashed line in the above graphs represents the mean conversion rate between the two groups, the distance between the two\n",
    "lines is equal to mean difference between the control and test group d_hat(pB-pA)."
   ]
  },
  {
   "cell_type": "markdown",
   "metadata": {},
   "source": [
    "# Null And Alternative Hypothesis"
   ]
  },
  {
   "cell_type": "markdown",
   "metadata": {},
   "source": [
    "\n",
    "The null hypothesis: the position that the new ads for the exposed group would not change the conversation rate. \n",
    "the alternative hypothesis: for the case where the change increased or reduced the conversion rata\n"
   ]
  },
  {
   "cell_type": "markdown",
   "metadata": {},
   "source": [
    "Statistical power: the probablity that a statistical test will detect a difference between the control and variant, if\n",
    "there really is such a difference"
   ]
  },
  {
   "cell_type": "code",
   "execution_count": 76,
   "metadata": {},
   "outputs": [
    {
     "data": {
      "text/plain": [
       "control    4071\n",
       "exposed    4006\n",
       "Name: experiment, dtype: int64"
      ]
     },
     "execution_count": 76,
     "metadata": {},
     "output_type": "execute_result"
    }
   ],
   "source": [
    "raw_data['experiment'].value_counts()"
   ]
  },
  {
   "cell_type": "code",
   "execution_count": 77,
   "metadata": {},
   "outputs": [],
   "source": [
    "N_control = 4071\n",
    "N_exposed = 4006"
   ]
  },
  {
   "cell_type": "code",
   "execution_count": 78,
   "metadata": {},
   "outputs": [],
   "source": [
    "bcr = p_A\n",
    "d_hat = p_B - p_A"
   ]
  },
  {
   "cell_type": "code",
   "execution_count": 79,
   "metadata": {},
   "outputs": [
    {
     "data": {
      "text/plain": [
       "(4071, 4006, 0.06484893146647015, 0.012035741524044075)"
      ]
     },
     "execution_count": 79,
     "metadata": {},
     "output_type": "execute_result"
    }
   ],
   "source": [
    "N_control, N_exposed, bcr, d_hat"
   ]
  },
  {
   "cell_type": "code",
   "execution_count": 105,
   "metadata": {},
   "outputs": [],
   "source": [
    "def pooled_prob(N_control, N_exposed, X_A, X_B):\n",
    "    \"\"\"Returns pooled probability for two samples\"\"\"\n",
    "    return (X_A + X_B) / (N_control + N_exposed)\n",
    "\n",
    "\n",
    "def pooled_SE(N_control, N_exposed, X_A, X_B):\n",
    "    \"\"\"Returns the pooled standard error for two samples\"\"\"\n",
    "    p_hat = pooled_prob(N_control, N_exposed, X_A, X_B)\n",
    "    SE = np.sqrt(p_hat * (1 - p_hat) * (1 / N_control + 1 / N_exposed))\n",
    "    return SE\n",
    "\n",
    "def confidence_interval(sample_mean=0, sample_std=1, sample_size=1,\n",
    "                        sig_level=0.05):\n",
    "    \"\"\"Returns the confidence interval as a tuple\"\"\"\n",
    "    z = z_val(sig_level)\n",
    "\n",
    "    left = sample_mean - z * sample_std / np.sqrt(sample_size)\n",
    "    right = sample_mean + z * sample_std / np.sqrt(sample_size)\n",
    "\n",
    "    return (left, right)\n",
    "def z_val(sig_level=0.05, two_tailed=True):\n",
    "    \"\"\"Returns the z value for a given significance level\"\"\"\n",
    "    z_dist = scs.norm()\n",
    "    if two_tailed:\n",
    "        sig_level = sig_level/2\n",
    "        area = 1 - sig_level\n",
    "    else:\n",
    "        area = 1 - sig_level\n",
    "\n",
    "    z = z_dist.ppf(area)\n",
    "\n",
    "    return z\n",
    "\n",
    "def ab_dist(stderr, d_hat=0, group_type='control'):\n",
    "    \"\"\"Returns a distribution object depending on group type\n",
    "    Examples:\n",
    "    Parameters:\n",
    "        stderr (float): pooled standard error of two independent samples\n",
    "        d_hat (float): the mean difference between two independent samples\n",
    "        group_type (string): 'control' and 'test' are supported\n",
    "    Returns:\n",
    "        dist (scipy.stats distribution object)\n",
    "    \"\"\"\n",
    "    if group_type == 'control':\n",
    "        sample_mean = 0\n",
    "\n",
    "    elif group_type == 'test':\n",
    "        sample_mean = d_hat\n",
    "\n",
    "    # create a normal distribution which is dependent on mean and std dev\n",
    "    dist = scs.norm(sample_mean, stderr)\n",
    "    return dist"
   ]
  },
  {
   "cell_type": "code",
   "execution_count": 106,
   "metadata": {},
   "outputs": [],
   "source": [
    "def plot_norm_dist(ax, mu, std, with_CI=False, sig_level=0.05, label=None):\n",
    "    \"\"\"Adds a normal distribution to the axes provided\n",
    "    Example:\n",
    "        plot_norm_dist(ax, 0, 1)  # plots a standard normal distribution\n",
    "    Parameters:\n",
    "        ax (matplotlib axes)\n",
    "        mu (float): mean of the normal distribution\n",
    "        std (float): standard deviation of the normal distribution\n",
    "    Returns:\n",
    "        None: the function adds a plot to the axes object provided\n",
    "    \"\"\"\n",
    "    x = np.linspace(mu - 12 * std, mu + 12 * std, 1000)\n",
    "    y = scs.norm(mu, std).pdf(x)\n",
    "    ax.plot(x, y, label=label)\n",
    "\n",
    "    if with_CI:\n",
    "        plot_CI(ax, mu, std, sig_level=sig_level)\n",
    "\n",
    "def plot_CI(ax, mu, s, sig_level=0.05, color='grey'):\n",
    "    \"\"\"Calculates the two-tailed confidence interval and adds the plot to\n",
    "    an axes object.\n",
    "    Example:\n",
    "        plot_CI(ax, mu=0, s=stderr, sig_level=0.05)\n",
    "    Parameters:\n",
    "        ax (matplotlib axes)\n",
    "        mu (float): mean\n",
    "        s (float): standard deviation\n",
    "    Returns:\n",
    "        None: the function adds a plot to the axes object provided\n",
    "    \"\"\"\n",
    "    left, right = confidence_interval(sample_mean=mu, sample_std=s,\n",
    "                                      sig_level=sig_level)\n",
    "    ax.axvline(left, c=color, linestyle='--', alpha=0.5)\n",
    "    ax.axvline(right, c=color, linestyle='--', alpha=0.5)\n",
    "    \n",
    "def plot_null(ax, stderr):\n",
    "    \"\"\"Plots the null hypothesis distribution where if there is no real change,\n",
    "    the distribution of the differences between the test and the control groups\n",
    "    will be normally distributed.\n",
    "    The confidence band is also plotted.\n",
    "    Example:\n",
    "        plot_null(ax, stderr)\n",
    "    Parameters:\n",
    "        ax (matplotlib axes)\n",
    "        stderr (float): the pooled standard error of the control and test group\n",
    "    Returns:\n",
    "        None: the function adds a plot to the axes object provided\n",
    "    \"\"\"\n",
    "    plot_norm_dist(ax, 0, stderr, label=\"Null\")\n",
    "    plot_CI(ax, mu=0, s=stderr, sig_level=0.05)\n",
    "\n",
    "def plot_alt(ax, stderr, d_hat):\n",
    "    \"\"\"Plots the alternative hypothesis distribution where if there is a real\n",
    "    change, the distribution of the differences between the test and the\n",
    "    control groups will be normally distributed and centered around d_hat\n",
    "    The confidence band is also plotted.\n",
    "    Example:\n",
    "        plot_alt(ax, stderr, d_hat=0.025)\n",
    "    Parameters:\n",
    "        ax (matplotlib axes)\n",
    "        stderr (float): the pooled standard error of the control and test group\n",
    "    Returns:\n",
    "        None: the function adds a plot to the axes object provided\n",
    "    \"\"\"\n",
    "    plot_norm_dist(ax, d_hat, stderr, label=\"Alternative\")\n",
    "    \n",
    "def abplot(N_control, N_exposed, bcr, d_hat, sig_level=0.05, show_power=False,\n",
    "           show_alpha=False, show_beta=False, show_p_value=False,\n",
    "           show_legend=True):\n",
    "    \"\"\"Example plot of AB test\n",
    "    Example:\n",
    "        abplot(n=4000, bcr=0.11, d_hat=0.03)\n",
    "    Parameters:\n",
    "        n (int): total sample size for both control and test groups (N_A + N_B)\n",
    "        bcr (float): base conversion rate; conversion rate of control\n",
    "        d_hat: difference in conversion rate between the control and test\n",
    "            groups, sometimes referred to as **minimal detectable effect** when\n",
    "            calculating minimum sample size or **lift** when discussing\n",
    "            positive improvement desired from launching a change.\n",
    "    Returns:\n",
    "        None: the function plots an AB test as two distributions for\n",
    "        visualization purposes\n",
    "    \"\"\"\n",
    "    # create a plot object\n",
    "    fig, ax = plt.subplots(figsize=(12, 6))\n",
    "\n",
    "    # define parameters to find pooled standard error\n",
    "    X_A = bcr * N_control\n",
    "    X_B = (bcr + d_hat) * N_exposed\n",
    "    stderr = pooled_SE(N_control, N_exposed, X_A, X_B)\n",
    "\n",
    "    # plot the distribution of the null and alternative hypothesis\n",
    "    plot_null(ax, stderr)\n",
    "    plot_alt(ax, stderr, d_hat)\n",
    "\n",
    "    # set extent of plot area\n",
    "    ax.set_xlim(-8 * stderr, 8 * stderr)\n",
    "\n",
    "    # shade areas according to user input\n",
    "    if show_power:\n",
    "        show_area(ax, d_hat, stderr, sig_level, area_type='power')\n",
    "    if show_alpha:\n",
    "        show_area(ax, d_hat, stderr, sig_level, area_type='alpha')\n",
    "    if show_beta:\n",
    "        show_area(ax, d_hat, stderr, sig_level, area_type='beta')\n",
    "\n",
    "    # show p_value based on the binomial distributions for the two groups\n",
    "    if show_p_value:\n",
    "        null = ab_dist(stderr, 'control')\n",
    "        p_value = p_val(N_control, N_control, bcr, bcr+d_hat)\n",
    "        ax.text(3 * stderr, null.pdf(0),\n",
    "                'p-value = {0:.3f}'.format(p_value),\n",
    "                fontsize=12, ha='left')\n",
    "\n",
    "    # option to show legend\n",
    "    if show_legend:\n",
    "        plt.legend()\n",
    "\n",
    "    plt.xlabel('d')\n",
    "    plt.ylabel('PDF')\n",
    "    plt.show()\n",
    "\n",
    "def show_area(ax, d_hat, stderr, sig_level, area_type='power'):\n",
    "    \"\"\"Fill between upper significance boundary and distribution for\n",
    "    alternative hypothesis\n",
    "    \"\"\"\n",
    "    left, right = confidence_interval(sample_mean=0, sample_std=stderr,\n",
    "                                      sig_level=sig_level)\n",
    "    x = np.linspace(-12 * stderr, 12 * stderr, 1000)\n",
    "    null = ab_dist(stderr, 'control')\n",
    "    alternative = ab_dist(stderr, d_hat, 'test')\n",
    "\n",
    "    # if area_type is power\n",
    "    # Fill between upper significance boundary and distribution for alternative\n",
    "    # hypothesis\n",
    "    if area_type == 'power':\n",
    "        ax.fill_between(x, 0, alternative.pdf(x), color='green', alpha='0.25',\n",
    "                        where=(x > right))\n",
    "        ax.text(-3 * stderr, null.pdf(0),\n",
    "                'power = {0:.3f}'.format(1 - alternative.cdf(right)),\n",
    "                fontsize=12, ha='right', color='k')\n",
    "\n",
    "    # if area_type is alpha\n",
    "    # Fill between upper significance boundary and distribution for null\n",
    "    # hypothesis\n",
    "    if area_type == 'alpha':\n",
    "        ax.fill_between(x, 0, null.pdf(x), color='green', alpha='0.25',\n",
    "                        where=(x > right))\n",
    "        ax.text(-3 * stderr, null.pdf(0),\n",
    "                'alpha = {0:.3f}'.format(1 - null.cdf(right)),\n",
    "                fontsize=12, ha='right', color='k')\n",
    "\n",
    "    # if area_type is beta\n",
    "    # Fill between distribution for alternative hypothesis and upper\n",
    "    # significance boundary\n",
    "    if area_type == 'beta':\n",
    "        ax.fill_between(x, 0, alternative.pdf(x), color='green', alpha='0.25',\n",
    "                        where=(x < right))\n",
    "        ax.text(-3 * stderr, null.pdf(0),\n",
    "                'beta = {0:.3f}'.format(alternative.cdf(right)),\n",
    "                fontsize=12, ha='right', color='k')\n",
    "\n"
   ]
  },
  {
   "cell_type": "code",
   "execution_count": 107,
   "metadata": {},
   "outputs": [
    {
     "data": {
      "image/png": "[encoded data removed]",
      "text/plain": [
       "<Figure size 864x432 with 1 Axes>"
      ]
     },
     "metadata": {},
     "output_type": "display_data"
    }
   ],
   "source": [
    "abplot(N_control, N_exposed, bcr, d_hat, show_power=True)"
   ]
  },
  {
   "cell_type": "markdown",
   "metadata": {},
   "source": [
    "The opposite area under the alternative curve is the probability that we accept the null hypothesis and reject the\n",
    "alternative hypothesis (false negative). This is referred to as beta in A/B testing. "
   ]
  },
  {
   "cell_type": "code",
   "execution_count": 108,
   "metadata": {},
   "outputs": [
    {
     "data": {
      "image/png": "[encoded data removed]",
      "text/plain": [
       "<Figure size 864x432 with 1 Axes>"
      ]
     },
     "metadata": {},
     "output_type": "display_data"
    }
   ],
   "source": [
    "abplot(N_control, N_exposed, bcr, d_hat, show_beta=True)"
   ]
  },
  {
   "cell_type": "markdown",
   "metadata": {},
   "source": [
    "The gray dashed line that divides the area under the alternative curve into two also directly segments the area associated \n",
    "with the significance level, denoted by apha."
   ]
  },
  {
   "cell_type": "code",
   "execution_count": 110,
   "metadata": {},
   "outputs": [
    {
     "data": {
      "image/png": "[encoded data removed]",
      "text/plain": [
       "<Figure size 864x432 with 1 Axes>"
      ]
     },
     "metadata": {},
     "output_type": "display_data"
    }
   ],
   "source": [
    "abplot(N_control, N_exposed, bcr, d_hat, show_alpha=True)"
   ]
  },
  {
   "cell_type": "code",
   "execution_count": null,
   "metadata": {},
   "outputs": [],
   "source": [
    "with p-value = 0.05 and alpha=0.025 we can conclude that the test is statistically significant, its indicates strong \n",
    "evidence against the null hypothesis. we can reject the null hypothesis. "
   ]
  },
  {
   "cell_type": "markdown",
   "metadata": {},
   "source": [
    "# Z_test plots"
   ]
  },
  {
   "cell_type": "markdown",
   "metadata": {},
   "source": [
    "A z-test is a statistical test to determine whether two population means are different when the variances are known and \n",
    "the sample size is large. for our cas we need to compare the means for exposed and control group."
   ]
  },
  {
   "cell_type": "code",
   "execution_count": 111,
   "metadata": {},
   "outputs": [],
   "source": [
    "def zplot(area=0.95, two_tailed=True, align_right=False):\n",
    "    \"\"\"Plots a z distribution with common annotations\n",
    "    Example:\n",
    "        zplot(area=0.95)\n",
    "        zplot(area=0.80, two_tailed=False, align_right=True)\n",
    "    Parameters:\n",
    "        area (float): The area under the standard normal distribution curve.\n",
    "        align (str): The area under the curve can be aligned to the center\n",
    "            (default) or to the left.\n",
    "    Returns:\n",
    "        None: A plot of the normal distribution with annotations showing the\n",
    "        area under the curve and the boundaries of the area.\n",
    "    \"\"\"\n",
    "    # create plot object\n",
    "    fig = plt.figure(figsize=(12, 6))\n",
    "    ax = fig.subplots()\n",
    "    # create normal distribution\n",
    "    norm = scs.norm()\n",
    "    # create data points to plot\n",
    "    x = np.linspace(-5, 5, 1000)\n",
    "    y = norm.pdf(x)\n",
    "\n",
    "    ax.plot(x, y)\n",
    "\n",
    "    # code to fill areas\n",
    "    # for two-tailed tests\n",
    "    if two_tailed:\n",
    "        left = norm.ppf(0.5 - area / 2)\n",
    "        right = norm.ppf(0.5 + area / 2)\n",
    "        ax.vlines(right, 0, norm.pdf(right), color='grey', linestyle='--')\n",
    "        ax.vlines(left, 0, norm.pdf(left), color='grey', linestyle='--')\n",
    "\n",
    "        ax.fill_between(x, 0, y, color='grey', alpha='0.25',\n",
    "                        where=(x > left) & (x < right))\n",
    "        plt.xlabel('z')\n",
    "        plt.ylabel('PDF')\n",
    "        plt.text(left, norm.pdf(left), \"z = {0:.3f}\".format(left), fontsize=12,\n",
    "                 rotation=90, va=\"bottom\", ha=\"right\")\n",
    "        plt.text(right, norm.pdf(right), \"z = {0:.3f}\".format(right),\n",
    "                 fontsize=12, rotation=90, va=\"bottom\", ha=\"left\")\n",
    "    # for one-tailed tests\n",
    "    else:\n",
    "        # align the area to the right\n",
    "        if align_right:\n",
    "            left = norm.ppf(1-area)\n",
    "            ax.vlines(left, 0, norm.pdf(left), color='grey', linestyle='--')\n",
    "            ax.fill_between(x, 0, y, color='grey', alpha='0.25',\n",
    "                            where=x > left)\n",
    "            plt.text(left, norm.pdf(left), \"z = {0:.3f}\".format(left),\n",
    "                     fontsize=12, rotation=90, va=\"bottom\", ha=\"right\")\n",
    "        # align the area to the left\n",
    "        else:\n",
    "            right = norm.ppf(area)\n",
    "            ax.vlines(right, 0, norm.pdf(right), color='grey', linestyle='--')\n",
    "            ax.fill_between(x, 0, y, color='grey', alpha='0.25',\n",
    "                            where=x < right)\n",
    "            plt.text(right, norm.pdf(right), \"z = {0:.3f}\".format(right),\n",
    "                     fontsize=12, rotation=90, va=\"bottom\", ha=\"left\")\n",
    "\n",
    "    # annotate the shaded area\n",
    "    plt.text(0, 0.1, \"shaded area = {0:.3f}\".format(area), fontsize=12,\n",
    "             ha='center')\n",
    "    # axis labels\n",
    "    plt.xlabel('z')\n",
    "    plt.ylabel('PDF')\n",
    "\n",
    "    plt.show()\n",
    "\n"
   ]
  },
  {
   "cell_type": "code",
   "execution_count": 112,
   "metadata": {},
   "outputs": [
    {
     "data": {
      "image/png": "[encoded data removed]",
      "text/plain": [
       "<Figure size 864x432 with 1 Axes>"
      ]
     },
     "metadata": {},
     "output_type": "display_data"
    }
   ],
   "source": [
    "zplot(area=0.80, two_tailed=False, align_right=True)"
   ]
  },
  {
   "cell_type": "code",
   "execution_count": 113,
   "metadata": {},
   "outputs": [
    {
     "data": {
      "image/png": "[encoded data removed]",
      "text/plain": [
       "<Figure size 864x432 with 1 Axes>"
      ]
     },
     "metadata": {},
     "output_type": "display_data"
    }
   ],
   "source": [
    "zplot(area=0.80, two_tailed=True)"
   ]
  },
  {
   "cell_type": "markdown",
   "metadata": {},
   "source": [
    "# Minimum sample size calculation"
   ]
  },
  {
   "cell_type": "markdown",
   "metadata": {},
   "source": [
    "Useful to know it,  because it is directly related to how quickly you can complete your experiments and deliver \n",
    "statistically significant results."
   ]
  },
  {
   "cell_type": "code",
   "execution_count": 114,
   "metadata": {},
   "outputs": [],
   "source": [
    "def min_sample_size(bcr, mde, power=0.8, sig_level=0.05):\n",
    "    \"\"\"Returns the minimum sample size to set up a split test\n",
    "    Arguments:\n",
    "        bcr (float): probability of success for control, sometimes\n",
    "        referred to as baseline conversion rate\n",
    "        mde (float): minimum change in measurement between control\n",
    "        group and test group if alternative hypothesis is true, sometimes\n",
    "        referred to as minimum detectable effect\n",
    "        power (float): probability of rejecting the null hypothesis when the\n",
    "        null hypothesis is false, typically 0.8\n",
    "        sig_level (float): significance level often denoted as alpha,\n",
    "        typically 0.05\n",
    "    Returns:\n",
    "        min_N: minimum sample size (float)\n",
    "    References:\n",
    "        Stanford lecture on sample sizes\n",
    "        http://statweb.stanford.edu/~susan/courses/s141/hopower.pdf\n",
    "    \"\"\"\n",
    "    # standard normal distribution to determine z-values\n",
    "    standard_norm = scs.norm(0, 1)\n",
    "\n",
    "    # find Z_beta from desired power\n",
    "    Z_beta = standard_norm.ppf(power)\n",
    "\n",
    "    # find Z_alpha\n",
    "    Z_alpha = standard_norm.ppf(1-sig_level/2)\n",
    "\n",
    "    # average of probabilities from both groups\n",
    "    pooled_prob = (bcr + bcr+mde) / 2\n",
    "\n",
    "    min_N = (2 * pooled_prob * (1 - pooled_prob) * (Z_beta + Z_alpha)**2\n",
    "             / mde**2)\n",
    "\n",
    "    return min_N\n",
    "\n"
   ]
  },
  {
   "cell_type": "code",
   "execution_count": 115,
   "metadata": {},
   "outputs": [
    {
     "data": {
      "text/plain": [
       "3842.026629963879"
      ]
     },
     "execution_count": 115,
     "metadata": {},
     "output_type": "execute_result"
    }
   ],
   "source": [
    "min_sample_size(bcr=0.10, mde=0.02)"
   ]
  },
  {
   "cell_type": "code",
   "execution_count": 116,
   "metadata": {},
   "outputs": [
    {
     "data": {
      "image/png": "[encoded data removed]",
      "text/plain": [
       "<Figure size 864x432 with 1 Axes>"
      ]
     },
     "metadata": {},
     "output_type": "display_data"
    }
   ],
   "source": [
    "abplot(3843, 3843, 0.10, 0.02, show_power=True)"
   ]
  },
  {
   "cell_type": "markdown",
   "metadata": {
    "colab_type": "text",
    "id": "4NLjmQlWro5d"
   },
   "source": [
    "Double click the following cell to get sample conditional SPRT code"
   ]
  },
  {
   "cell_type": "code",
   "execution_count": 33,
   "metadata": {
    "cellView": "both",
    "colab": {},
    "colab_type": "code",
    "id": "GZRFd2kTalh3"
   },
   "outputs": [],
   "source": [
    "#@title\n",
    "#REFERENCE\n",
    "# A Conditional Sequential Test for the Equality of Two Binomial Proportions\n",
    "# William Q. Meeker, Jr\n",
    "# Journal of the Royal Statistical Society. Series C (Applied Statistics)\n",
    "# Vol. 30, No. 2 (1981), pp. 109-115\n",
    "def ConditionalSPRT(self,x,y,t1,alpha=0.05,beta=0.10,stop=None):\n",
    "        if t1<=1:\n",
    "            printLog('warning',\"Odd ratio should exceed 1.\")\n",
    "        if (alpha >0.5) | (beta >0.5):\n",
    "            printLog('warning',\"Unrealistic values of alpha or beta were passed.\"\n",
    "                     +\" You should have good reason to use large alpha & beta values\")\n",
    "        if stop!=None:\n",
    "            stop=math.floor(n0)\n",
    "\n",
    "        def comb(n, k):\n",
    "            return factorial(n) // factorial(k) // factorial(n - k)\n",
    "        \n",
    "        def lchoose(b, j):\n",
    "            a=[]\n",
    "            if (type(j) is list) | (isinstance(j,np.ndarray)==True):\n",
    "                if len(j)<2:\n",
    "                    j=j[0]\n",
    "            if (type(j) is list) | (isinstance(j,np.ndarray)==True):\n",
    "                for k in j:\n",
    "                    n=b\n",
    "                    if (0 <= k) & (k<= n):\n",
    "                        a.append(math.log(comb(n,k)))\n",
    "                    else:\n",
    "                        a.append(0)\n",
    "            else:\n",
    "                n=b\n",
    "                k=j\n",
    "                if (0 <= k) & (k<= n):\n",
    "                    a.append(math.log(comb(n,k)))\n",
    "                else:\n",
    "                    a.append(0)\n",
    "\n",
    "            return np.array(a)\n",
    "\n",
    "        def g(x,r,n,t1,t0=1):\n",
    "            return -math.log(h(x,r,n,t1))+math.log(h(x,r,n,t0))\n",
    "\n",
    "        def h(x,r,n,t=1):\n",
    "            return f(r,n,t,offset=ftermlog(x,r,n,t))\n",
    "\n",
    "        def f(r,n,t,offset=0):\n",
    "            upper=max(0,r-n)\n",
    "            lower=min(n,r)\n",
    "            rng=list(range(upper,lower+1))\n",
    "            return np.sum(fterm(rng,r,n,t,offset))\n",
    "\n",
    "        def fterm(j,r,n,t,offset=0):\n",
    "            ftlog=ftermlog(j,r,n,t,offset)\n",
    "            return np.array([math.exp(ex) for ex in ftlog])\n",
    "\n",
    "        def ftermlog(j,r,n,t,offset=0):\n",
    "            xx=r-j\n",
    "            lch=lchoose(n,j)\n",
    "            lchdiff=lchoose(n,xx)\n",
    "            lg=np.array(j)*math.log(t)\n",
    "            lgsum=lch+lchdiff\n",
    "            lgsum2=lgsum+lg\n",
    "            lgdiff=lgsum2-offset\n",
    "\n",
    "            return lgdiff\n",
    "\n",
    "        def logf(r,n,t,offset=0):\n",
    "\n",
    "            z=f(r,n,t,offset)\n",
    "            if z>0:\n",
    "                return math.log(z)\n",
    "            else:\n",
    "                return np.nan\n",
    "\n",
    "        def clowerUpper(r,n,t1c,t0=1,alpha=0.05,beta=0.10):\n",
    "            offset=ftermlog(math.ceil(r/2),r,n,t1c)\n",
    "            z=logf(r,n,t1c,logf(r,n,t0,offset)+offset)\n",
    "            a=-math.log(alpha/(1-beta))\n",
    "            b=math.log(beta/(1-alpha))\n",
    "            lower=b\n",
    "            upper=1+a\n",
    "            return (np.array([lower,upper])+z)/math.log(t1c/t0)\n",
    "            \n",
    "        l=math.log(beta/(1-alpha))\n",
    "        u=-math.log(alpha/(1-beta))\n",
    "        sample_size=min(len(x),len(y))\n",
    "        n=np.array(range(1,sample_size+1))\n",
    "\n",
    "        if stop!=None:\n",
    "            n=np.array([z for z in n if z<=stop])\n",
    "        x1=np.cumsum(x[n-1])\n",
    "        r=x1+np.cumsum(y[n-1])\n",
    "        stats=np.array(list(map(g,x1, r, n, [t1]*len(x1)))) #recurcively calls g\n",
    "\n",
    "        clu=list(map(clowerUpper,r,n,[t1]*len(r),[1]*len(r),[alpha]*len(r), [beta]*len(r)))\n",
    "        limits=[]\n",
    "        for v in clu:\n",
    "            inArray=[]\n",
    "            for vin in v:\n",
    "                inArray.append(math.floor(vin))\n",
    "            limits.append(np.array(inArray))\n",
    "        limits=np.array(limits)\n",
    "\n",
    "        k=np.where((stats>=u) | (stats<=l))\n",
    "        cvalues=stats[k]\n",
    "        if cvalues.shape[0]<1:\n",
    "            k= np.nan\n",
    "            outcome='Unable to conclude.Needs more sample.'\n",
    "        else:\n",
    "            k=np.min(k)\n",
    "            if stats[k]>=u:\n",
    "                outcome=f'Exposed group produced a statistically significant increase.'\n",
    "            else:\n",
    "                outcome='Their is no statistically significant difference between two test groups'\n",
    "        if (stop!=None) & (k==np.nan):\n",
    "            c1=clowerUpper(r,stop,t1,alpha,beta)\n",
    "            c1=math.floor(np.mean(c1)-0.5)\n",
    "            if x1[n0]<=c1:\n",
    "                truncate_decision='h0'\n",
    "                outcome='Maximum Limit Decision. The aproximate decision point shows their is no statistically significant difference between two test groups'\n",
    "            else:\n",
    "                truncate_decision='h1'\n",
    "                outcome=f'Maximum Limit Decision. The aproximate decision point shows exposed group produced a statistically significant increase.'\n",
    "            truncated=stop\n",
    "        else:\n",
    "            truncate_decision='Non'\n",
    "            truncated=np.nan\n",
    "        return (outcome,n, k,l,u,truncated,truncate_decision,x1,r,stats,limits)"
   ]
  },
  {
   "cell_type": "code",
   "execution_count": null,
   "metadata": {
    "colab": {},
    "colab_type": "code",
    "id": "orswYcvhYo-I"
   },
   "outputs": [],
   "source": []
  },
  {
   "cell_type": "markdown",
   "metadata": {
    "colab_type": "text",
    "id": "cbQRjxyDjUt9"
   },
   "source": [
    "##### Use the next class structure to complete your sequential testing"
   ]
  },
  {
   "cell_type": "code",
   "execution_count": null,
   "metadata": {
    "colab": {},
    "colab_type": "code",
    "id": "Dj_QuUA_Z-gV"
   },
   "outputs": [],
   "source": [
    "## your code here. include other necessary functions as you want.\n",
    "class SequentialTest:\n",
    "  def __init__(self,exposed,control,...):\n",
    "    '''\n",
    "    initialise startup variables\n",
    "    '''\n",
    "  \n",
    "  def stoppingRule(self, ...):\n",
    "    '''\n",
    "    This function should take current observation and return statistical decision made. \n",
    "    Consider truncate rule for longer tests\n",
    "    '''\n",
    "\n",
    "  def computeBoundaries(self,):\n",
    "    '''\n",
    "    This function shoud compute boundaries \n",
    "    '''\n",
    "\n",
    "  def plotTest(self,):\n",
    "    '''\n",
    "    showing the cumulative statistical test (e.g., log probability ratio) and the uper and lower limits.\n",
    "    '''\n",
    "\n",
    "  def plotBoundaries(self,):\n",
    "    '''cumulative sums of exposed successes, bounded by the critical limits.\n",
    "    '''\n"
   ]
  },
  {
   "cell_type": "code",
   "execution_count": null,
   "metadata": {
    "colab": {},
    "colab_type": "code",
    "id": "F0qmKWVHq7aU"
   },
   "outputs": [],
   "source": [
    "def transform_data(df):\n",
    "  '''\n",
    "  segment data into exposed and control groups\n",
    "  consider that SmartAd runs the experment hourly, group data into hours. \n",
    "      Hint: create new column to hold date+hour and use df.column.map(lambda x:  pd.Timestamp(x,tz=None).strftime('%Y-%m-%d:%H'))\n",
    "  create two dataframes with bernouli series 1 for posetive(yes) and 0 for negative(no)\n",
    "    Hint: Given engagement(sum of yes and no until current observation as an array) and success (yes countas an array), the method generates random binomial distribution\n",
    "        #Example\n",
    "           engagement = np.array([5, 3, 3])\n",
    "           yes = np.array([2, 0, 3])       \n",
    "         Output is \"[1] 1 0 1 0 0 0 0 0 1 1 1\", showing a binary array of 5+3+3 values\n",
    "         of which 2 of the first 5 are ones, 0 of the next 3 are ones, and all 3 of\n",
    "         the last 3 are ones where position the ones is randomly distributed within each group.\n",
    "  '''\n",
    "  return exposed,control\n",
    "\n",
    "def plotDataSummary(exposed, control):\n",
    "  'This function plots cummulated success'\n",
    "\n",
    "def pretyPrintTestResult(self, test):\n",
    "  '''This function print final test result. Json format is recommended. For example\n",
    "  {\n",
    "    \"name\": \"\",\n",
    "    \"engagementCountControl\": ,\n",
    "    \"engagementCountExposed\": ,\n",
    "    \"positiveCountControl\": ,\n",
    "    \"positiveCountExposed\": ,\n",
    "    \"ControlSuccessProbability\": ,\n",
    "    \"ExposedSuccessProbability\": ,\n",
    "    \"basePositiveRate\": ,\n",
    "    \"significanceSign\": \".\",\n",
    "    \"lift\": ,\n",
    "    \"oddRatio\": ,\n",
    "    \"exactSuccessOddRate\":,\n",
    "    \"confidenceIntervalLevel\": ,\n",
    "    \"alpha\": ,\n",
    "    \"beta\": ,\n",
    "    \"power\": ,\n",
    "    \"criticalValue\": ,\n",
    "    \"lower critical(a)\": \n",
    "    \"upper critical(b)\": ,\n",
    "    \"TotalObservation\": \n",
    "  }'''"
   ]
  },
  {
   "cell_type": "code",
   "execution_count": null,
   "metadata": {
    "colab": {},
    "colab_type": "code",
    "id": "JIOGgResa5B-"
   },
   "outputs": [],
   "source": [
    "\n",
    "######################################\n",
    "'Define statistical parameters such as alpha, beta, sample size if evan approach is used, odd ratio for SPRT'\n",
    "alpha=\n",
    "beta=\n",
    "#other variables here\n",
    "'Compute statistical lower and upper decision points such as a and b'\n",
    "a=\n",
    "b=\n",
    "#other variables here\n",
    "\n",
    "##data processing here\n",
    "exposed,control=transform_data(data)\n",
    "##plot data summary\n",
    "plotDataSummary(exposed,control)\n",
    "\n",
    "'Perform test. Loop over each of data entry and perform test. Accumulate result into dataframe and print out test journey'\n",
    "test=SequentialTest(...)\n",
    "\n",
    "'Print test result.'\n",
    "pretyPrintTestResult(resultObject)"
   ]
  }
 ],
 "metadata": {
  "colab": {
   "name": "sequential_testing.ipynb",
   "provenance": []
  },
  "kernelspec": {
   "display_name": "Python 3",
   "language": "python",
   "name": "python3"
  },
  "language_info": {
   "codemirror_mode": {
    "name": "ipython",
    "version": 3
   },
   "file_extension": ".py",
   "mimetype": "text/x-python",
   "name": "python",
   "nbconvert_exporter": "python",
   "pygments_lexer": "ipython3",
   "version": "3.7.6"
  }
 },
 "nbformat": 4,
 "nbformat_minor": 4
}
